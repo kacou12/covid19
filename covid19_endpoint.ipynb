{
 "cells": [
  {
   "cell_type": "code",
   "execution_count": 2,
   "metadata": {},
   "outputs": [],
   "source": [
    "import subprocess\n",
    "from apscheduler.schedulers.background import BackgroundScheduler\n",
    "from apscheduler.triggers.interval import IntervalTrigger\n",
    "import atexit\n",
    "\n",
    "from flask import Flask, jsonify, request\n",
    "from flask_cors import CORS, cross_origin\n",
    "import pandas as pd\n",
    "import numpy as np\n",
    "\n",
    "import covid19_model as model"
   ]
  },
  {
   "cell_type": "code",
   "execution_count": 3,
   "metadata": {},
   "outputs": [
    {
     "name": "stderr",
     "output_type": "stream",
     "text": [
      "INFO:apscheduler.scheduler:Scheduler started\n",
      "INFO:apscheduler.scheduler:Added job \"run_training\" to job store \"default\"\n"
     ]
    },
    {
     "data": {
      "text/plain": [
       "<function __main__.<lambda>()>"
      ]
     },
     "execution_count": 3,
     "metadata": {},
     "output_type": "execute_result"
    }
   ],
   "source": [
    "access_count = 0\n",
    "\n",
    "def run_training():\n",
    "    model.fetch_data()\n",
    "    model.detect_growth()\n",
    "    model.calculate_forecast()\n",
    "\n",
    "scheduler = BackgroundScheduler()\n",
    "scheduler.start()\n",
    "\n",
    "scheduler.add_job(\n",
    "    func=run_training,\n",
    "    trigger='cron',\n",
    "    hour='3', \n",
    "    minute='00')\n",
    "\n",
    "atexit.register(lambda: scheduler.shutdown())"
   ]
  },
  {
   "cell_type": "code",
   "execution_count": 4,
   "metadata": {},
   "outputs": [
    {
     "name": "stdout",
     "output_type": "stream",
     "text": [
      " * Serving Flask app \"__main__\" (lazy loading)\n",
      " * Environment: production\n",
      "   WARNING: Do not use the development server in a production environment.\n",
      "   Use a production WSGI server instead.\n",
      " * Debug mode: off\n"
     ]
    },
    {
     "name": "stderr",
     "output_type": "stream",
     "text": [
      "INFO:werkzeug: * Running on http://0.0.0.0:3000/ (Press CTRL+C to quit)\n",
      "INFO:werkzeug:172.17.0.1 - - [06/Apr/2020 14:31:30] \"\u001b[37mOPTIONS /katana-ml/api/v1.0/forecast/covid19/stats HTTP/1.1\u001b[0m\" 200 -\n",
      "INFO:werkzeug:172.17.0.1 - - [06/Apr/2020 14:31:30] \"\u001b[37mOPTIONS /katana-ml/api/v1.0/forecast/covid19/countries HTTP/1.1\u001b[0m\" 200 -\n",
      "INFO:werkzeug:172.17.0.1 - - [06/Apr/2020 14:31:30] \"\u001b[37mOPTIONS /katana-ml/api/v1.0/forecast/covid19 HTTP/1.1\u001b[0m\" 200 -\n",
      "INFO:werkzeug:172.17.0.1 - - [06/Apr/2020 14:31:30] \"\u001b[37mGET /katana-ml/api/v1.0/forecast/covid19/stats HTTP/1.1\u001b[0m\" 200 -\n",
      "INFO:werkzeug:172.17.0.1 - - [06/Apr/2020 14:31:30] \"\u001b[37mGET /katana-ml/api/v1.0/forecast/covid19/countries HTTP/1.1\u001b[0m\" 200 -\n",
      "INFO:werkzeug:172.17.0.1 - - [06/Apr/2020 14:31:30] \"\u001b[37mPOST /katana-ml/api/v1.0/forecast/covid19 HTTP/1.1\u001b[0m\" 200 -\n",
      "INFO:werkzeug:172.17.0.1 - - [06/Apr/2020 14:31:31] \"\u001b[37mPOST /katana-ml/api/v1.0/forecast/covid19 HTTP/1.1\u001b[0m\" 200 -\n",
      "INFO:werkzeug:172.17.0.1 - - [06/Apr/2020 14:35:56] \"\u001b[37mOPTIONS /katana-ml/api/v1.0/forecast/covid19/stats HTTP/1.1\u001b[0m\" 200 -\n",
      "INFO:werkzeug:172.17.0.1 - - [06/Apr/2020 14:35:56] \"\u001b[37mOPTIONS /katana-ml/api/v1.0/forecast/covid19/countries HTTP/1.1\u001b[0m\" 200 -\n",
      "INFO:werkzeug:172.17.0.1 - - [06/Apr/2020 14:35:56] \"\u001b[37mOPTIONS /katana-ml/api/v1.0/forecast/covid19 HTTP/1.1\u001b[0m\" 200 -\n",
      "INFO:werkzeug:172.17.0.1 - - [06/Apr/2020 14:35:56] \"\u001b[37mPOST /katana-ml/api/v1.0/forecast/covid19 HTTP/1.1\u001b[0m\" 200 -\n",
      "INFO:werkzeug:172.17.0.1 - - [06/Apr/2020 14:35:56] \"\u001b[37mGET /katana-ml/api/v1.0/forecast/covid19/stats HTTP/1.1\u001b[0m\" 200 -\n",
      "INFO:werkzeug:172.17.0.1 - - [06/Apr/2020 14:35:56] \"\u001b[37mGET /katana-ml/api/v1.0/forecast/covid19/countries HTTP/1.1\u001b[0m\" 200 -\n",
      "INFO:werkzeug:172.17.0.1 - - [06/Apr/2020 14:35:57] \"\u001b[37mPOST /katana-ml/api/v1.0/forecast/covid19 HTTP/1.1\u001b[0m\" 200 -\n",
      "INFO:werkzeug:172.17.0.1 - - [06/Apr/2020 14:39:11] \"\u001b[37mOPTIONS /katana-ml/api/v1.0/forecast/covid19/stats HTTP/1.1\u001b[0m\" 200 -\n",
      "INFO:werkzeug:172.17.0.1 - - [06/Apr/2020 14:39:11] \"\u001b[37mOPTIONS /katana-ml/api/v1.0/forecast/covid19/countries HTTP/1.1\u001b[0m\" 200 -\n",
      "INFO:werkzeug:172.17.0.1 - - [06/Apr/2020 14:39:11] \"\u001b[37mOPTIONS /katana-ml/api/v1.0/forecast/covid19 HTTP/1.1\u001b[0m\" 200 -\n",
      "INFO:werkzeug:172.17.0.1 - - [06/Apr/2020 14:39:11] \"\u001b[37mGET /katana-ml/api/v1.0/forecast/covid19/stats HTTP/1.1\u001b[0m\" 200 -\n",
      "INFO:werkzeug:172.17.0.1 - - [06/Apr/2020 14:39:11] \"\u001b[37mGET /katana-ml/api/v1.0/forecast/covid19/countries HTTP/1.1\u001b[0m\" 200 -\n",
      "INFO:werkzeug:172.17.0.1 - - [06/Apr/2020 14:39:11] \"\u001b[37mPOST /katana-ml/api/v1.0/forecast/covid19 HTTP/1.1\u001b[0m\" 200 -\n",
      "INFO:werkzeug:172.17.0.1 - - [06/Apr/2020 14:39:11] \"\u001b[37mPOST /katana-ml/api/v1.0/forecast/covid19 HTTP/1.1\u001b[0m\" 200 -\n"
     ]
    }
   ],
   "source": [
    "app = Flask(__name__)\n",
    "CORS(app)\n",
    "\n",
    "@app.route(\"/katana-ml/api/v1.0/forecast/covid19\", methods=['POST'])\n",
    "def forecast():\n",
    "    global access_count\n",
    "    access_count += 1\n",
    "    \n",
    "    country = request.json['country']\n",
    "    \n",
    "    df = pd.read_csv('data/covid19_forecast_data_' + country + '.csv', parse_dates=True)\n",
    "    df = df.drop(df.columns[[0]], axis=1)\n",
    "    \n",
    "    result = df.to_json(orient='records', date_format='iso')\n",
    "    return result\n",
    "\n",
    "@app.route(\"/katana-ml/api/v1.0/forecast/covid19/stats\", methods=['GET'])\n",
    "def stats():\n",
    "    df = pd.read_csv('data/covid19_stats_countries.csv', parse_dates=True)\n",
    "    df = df.drop(df.columns[[0]], axis=1)\n",
    "    \n",
    "    result = df.to_json(orient='records', date_format='iso')\n",
    "    return result\n",
    "\n",
    "@app.route(\"/katana-ml/api/v1.0/forecast/covid19/count\", methods=['GET'])\n",
    "def accecc_count():\n",
    "    global access_count\n",
    "    return str(access_count)\n",
    "\n",
    "@app.route(\"/katana-ml/api/v1.0/forecast/covid19/countries\", methods=['GET'])\n",
    "def get_countries():\n",
    "    df = pd.read_csv('data/covid19_countries_list.csv')\n",
    "    df = df.drop(df.columns[[0]], axis=1)\n",
    "    \n",
    "    result = df.to_json(orient='records', date_format='iso')\n",
    "    return result\n",
    "\n",
    "# running REST interface port=5001\n",
    "if __name__ == \"__main__\":\n",
    "    app.run(debug=False, host='0.0.0.0', port=5001)"
   ]
  },
  {
   "cell_type": "code",
   "execution_count": null,
   "metadata": {},
   "outputs": [],
   "source": []
  }
 ],
 "metadata": {
  "kernelspec": {
   "display_name": "Python 3",
   "language": "python",
   "name": "python3"
  },
  "language_info": {
   "codemirror_mode": {
    "name": "ipython",
    "version": 3
   },
   "file_extension": ".py",
   "mimetype": "text/x-python",
   "name": "python",
   "nbconvert_exporter": "python",
   "pygments_lexer": "ipython3",
   "version": "3.6.7"
  }
 },
 "nbformat": 4,
 "nbformat_minor": 4
}
