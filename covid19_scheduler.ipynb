{
 "cells": [
  {
   "cell_type": "code",
   "execution_count": 1,
   "metadata": {},
   "outputs": [],
   "source": [
    "import subprocess\n",
    "from apscheduler.schedulers.background import BackgroundScheduler\n",
    "from apscheduler.triggers.interval import IntervalTrigger\n",
    "import atexit\n",
    "import sys\n",
    "\n",
    "import covid19_model as model"
   ]
  },
  {
   "cell_type": "code",
   "execution_count": null,
   "metadata": {},
   "outputs": [],
   "source": [
    "def run_training():\n",
    "    model.fetch_data()\n",
    "    model.detect_growth('data/covid19_data.csv', 'data/covid19_processed_data_', False)\n",
    "    model.detect_growth('data/covid19_data_backtesting.csv', 'data/covid19_processed_backtesting_data_', True)\n",
    "    model.calculate_forecast()\n",
    "    \n",
    "scheduler = BackgroundScheduler()\n",
    "scheduler.start()\n",
    "\n",
    "scheduler.add_job(\n",
    "    func=run_training,\n",
    "    trigger='cron',\n",
    "    hour='1', \n",
    "    minute='00')\n",
    "\n",
    "atexit.register(lambda: scheduler.shutdown())\n",
    "\n",
    "immediate_run = sys.argv[1]\n",
    "if immediate_run == 'true':\n",
    "    run_training()"
   ]
  }
 ],
 "metadata": {
  "kernelspec": {
   "display_name": "Python 3",
   "language": "python",
   "name": "python3"
  },
  "language_info": {
   "codemirror_mode": {
    "name": "ipython",
    "version": 3
   },
   "file_extension": ".py",
   "mimetype": "text/x-python",
   "name": "python",
   "nbconvert_exporter": "python",
   "pygments_lexer": "ipython3",
   "version": "3.6.7"
  }
 },
 "nbformat": 4,
 "nbformat_minor": 4
}
