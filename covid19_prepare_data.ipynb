{
 "cells": [
  {
   "cell_type": "code",
   "execution_count": 1,
   "metadata": {},
   "outputs": [],
   "source": [
    "import requests\n",
    "from datetime import datetime\n",
    "import pandas as pd"
   ]
  },
  {
   "cell_type": "code",
   "execution_count": 2,
   "metadata": {},
   "outputs": [],
   "source": [
    "def build_country_data(country):\n",
    "    res = []\n",
    "    keys = country.get('timeline').get('cases').keys()\n",
    "    for key in keys:\n",
    "        target_entry = {}\n",
    "        target_entry['Report_Date'] = key\n",
    "        country_name = country.get('country')\n",
    "        if country.get('province') != None:\n",
    "            country_name = country_name + '_' + country.get('province')\n",
    "        target_entry[country_name + '_cases'] = country.get('timeline').get('cases').get(key)\n",
    "        target_entry[country_name + '_deaths'] = country.get('timeline').get('deaths').get(key)\n",
    "        target_entry[country_name + '_recovered'] = country.get('timeline').get('recovered').get(key)\n",
    "        res.append(target_entry)\n",
    "    return res"
   ]
  },
  {
   "cell_type": "code",
   "execution_count": 5,
   "metadata": {},
   "outputs": [],
   "source": [
    "def build_covid19_data():\n",
    "    request_str = 'https://corona.lmao.ninja/v2/historical?lastdays=all'\n",
    "    response = requests.get(request_str)\n",
    "    json_data = response.json() if response and response.status_code == 200 else None\n",
    "    \n",
    "    df = None\n",
    "    for country in json_data:\n",
    "        res = build_country_data(country)\n",
    "        if df is None:\n",
    "            df = pd.DataFrame(res)\n",
    "            df.index = pd.DatetimeIndex(df['Report_Date'])\n",
    "            df = df.drop('Report_Date', 1)\n",
    "            df = df.sort_values(by=['Report_Date'])\n",
    "        else:\n",
    "            df_new = pd.DataFrame(res)\n",
    "            df_new.index = pd.DatetimeIndex(df_new['Report_Date'])\n",
    "            df_new = df_new.drop('Report_Date', 1)\n",
    "            df_new = df_new.sort_values(by=['Report_Date'])\n",
    "            df = df.merge(df_new, left_index=True, right_index=True)\n",
    "    \n",
    "    df.to_csv('data/covid19_data.csv')\n",
    "    \n",
    "    df_backtesting = df.iloc[:-5]\n",
    "    df_backtesting.to_csv('data/covid19_data_backtesting.csv')\n",
    "    \n",
    "    return df"
   ]
  },
  {
   "cell_type": "code",
   "execution_count": 6,
   "metadata": {},
   "outputs": [],
   "source": [
    "# df = build_covid19_data()"
   ]
  },
  {
   "cell_type": "code",
   "execution_count": null,
   "metadata": {},
   "outputs": [],
   "source": []
  }
 ],
 "metadata": {
  "kernelspec": {
   "display_name": "Python 3",
   "language": "python",
   "name": "python3"
  },
  "language_info": {
   "codemirror_mode": {
    "name": "ipython",
    "version": 3
   },
   "file_extension": ".py",
   "mimetype": "text/x-python",
   "name": "python",
   "nbconvert_exporter": "python",
   "pygments_lexer": "ipython3",
   "version": "3.6.7"
  }
 },
 "nbformat": 4,
 "nbformat_minor": 4
}
